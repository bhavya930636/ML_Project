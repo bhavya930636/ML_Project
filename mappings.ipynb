{
 "cells": [
  {
   "cell_type": "code",
   "execution_count": 14,
   "id": "ccb6617c-b10f-4c4e-9eb3-aac4cec0e4e4",
   "metadata": {},
   "outputs": [
    {
     "name": "stdout",
     "output_type": "stream",
     "text": [
      "   node idx   paper id\n",
      "0         0    9657784\n",
      "1         1   39886162\n",
      "2         2  116214155\n",
      "3         3  121432379\n",
      "4         4  231147053\n",
      "Index(['node idx', 'paper id'], dtype='object')\n"
     ]
    }
   ],
   "source": [
    "import pandas as pd\n",
    "\n",
    "# Load the CSV dataset (replace 'your_file.csv' with the actual file path)\n",
    "df = pd.read_csv('dataset/ogbn_arxiv/mapping/nodeidx2paperid.csv')\n",
    "\n",
    "# Display the first few rows of the dataset\n",
    "print(df.head())\n",
    "\n",
    "# Print the column names\n",
    "print(df.columns)\n"
   ]
  },
  {
   "cell_type": "code",
   "execution_count": 15,
   "id": "2667a0fe-d485-4e35-a0eb-97694c11365d",
   "metadata": {},
   "outputs": [
    {
     "name": "stdout",
     "output_type": "stream",
     "text": [
      "   label idx arxiv category\n",
      "0          0    arxiv cs na\n",
      "1          1    arxiv cs mm\n",
      "2          2    arxiv cs lo\n",
      "3          3    arxiv cs cy\n",
      "4          4    arxiv cs cr\n",
      "Index(['label idx', 'arxiv category'], dtype='object')\n"
     ]
    }
   ],
   "source": [
    "import pandas as pd\n",
    "\n",
    "# Load the CSV dataset (replace 'your_file.csv' with the actual file path)\n",
    "df = pd.read_csv('dataset/ogbn_arxiv/mapping/labelidx2arxivcategeory.csv')\n",
    "\n",
    "# Display the first few rows of the dataset\n",
    "print(df.head())\n",
    "\n",
    "# Print the column names\n",
    "print(df.columns)"
   ]
  },
  {
   "cell_type": "code",
   "execution_count": null,
   "id": "9548ab4f-7dc9-4c45-aa8b-4888f603f3d1",
   "metadata": {},
   "outputs": [],
   "source": []
  }
 ],
 "metadata": {
  "kernelspec": {
   "display_name": "Python 3 (ipykernel)",
   "language": "python",
   "name": "python3"
  },
  "language_info": {
   "codemirror_mode": {
    "name": "ipython",
    "version": 3
   },
   "file_extension": ".py",
   "mimetype": "text/x-python",
   "name": "python",
   "nbconvert_exporter": "python",
   "pygments_lexer": "ipython3",
   "version": "3.8.10"
  }
 },
 "nbformat": 4,
 "nbformat_minor": 5
}
