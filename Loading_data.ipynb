{
 "cells": [
  {
   "cell_type": "code",
   "execution_count": 2,
   "id": "aba98790-a314-4ddf-ae36-cafb153492c0",
   "metadata": {},
   "outputs": [
    {
     "name": "stdout",
     "output_type": "stream",
     "text": [
      "Defaulting to user installation because normal site-packages is not writeable\n",
      "Requirement already satisfied: ogb in /home/kriti-arora/.local/lib/python3.8/site-packages (1.3.6)\n",
      "Requirement already satisfied: torch>=1.6.0 in /home/kriti-arora/.local/lib/python3.8/site-packages (from ogb) (2.4.1)\n",
      "Requirement already satisfied: numpy>=1.16.0 in /home/kriti-arora/.local/lib/python3.8/site-packages (from ogb) (1.24.4)\n",
      "Requirement already satisfied: tqdm>=4.29.0 in /home/kriti-arora/.local/lib/python3.8/site-packages (from ogb) (4.66.5)\n",
      "Requirement already satisfied: scikit-learn>=0.20.0 in /home/kriti-arora/.local/lib/python3.8/site-packages (from ogb) (1.3.2)\n",
      "Requirement already satisfied: pandas>=0.24.0 in /home/kriti-arora/.local/lib/python3.8/site-packages (from ogb) (2.0.3)\n",
      "Requirement already satisfied: six>=1.12.0 in /usr/lib/python3/dist-packages (from ogb) (1.14.0)\n",
      "Requirement already satisfied: urllib3>=1.24.0 in /usr/lib/python3/dist-packages (from ogb) (1.25.8)\n",
      "Requirement already satisfied: outdated>=0.2.0 in /home/kriti-arora/.local/lib/python3.8/site-packages (from ogb) (0.2.2)\n",
      "Requirement already satisfied: setuptools>=44 in /usr/lib/python3/dist-packages (from outdated>=0.2.0->ogb) (45.2.0)\n",
      "Requirement already satisfied: littleutils in /home/kriti-arora/.local/lib/python3.8/site-packages (from outdated>=0.2.0->ogb) (0.2.4)\n",
      "Requirement already satisfied: requests in /home/kriti-arora/.local/lib/python3.8/site-packages (from outdated>=0.2.0->ogb) (2.31.0)\n",
      "Requirement already satisfied: python-dateutil>=2.8.2 in /home/kriti-arora/.local/lib/python3.8/site-packages (from pandas>=0.24.0->ogb) (2.8.2)\n",
      "Requirement already satisfied: pytz>=2020.1 in /home/kriti-arora/.local/lib/python3.8/site-packages (from pandas>=0.24.0->ogb) (2024.1)\n",
      "Requirement already satisfied: tzdata>=2022.1 in /home/kriti-arora/.local/lib/python3.8/site-packages (from pandas>=0.24.0->ogb) (2024.1)\n",
      "Requirement already satisfied: scipy>=1.5.0 in /home/kriti-arora/.local/lib/python3.8/site-packages (from scikit-learn>=0.20.0->ogb) (1.10.1)\n",
      "Requirement already satisfied: joblib>=1.1.1 in /home/kriti-arora/.local/lib/python3.8/site-packages (from scikit-learn>=0.20.0->ogb) (1.4.2)\n",
      "Requirement already satisfied: threadpoolctl>=2.0.0 in /home/kriti-arora/.local/lib/python3.8/site-packages (from scikit-learn>=0.20.0->ogb) (3.5.0)\n",
      "Requirement already satisfied: filelock in /home/kriti-arora/.local/lib/python3.8/site-packages (from torch>=1.6.0->ogb) (3.16.1)\n",
      "Requirement already satisfied: typing-extensions>=4.8.0 in /home/kriti-arora/.local/lib/python3.8/site-packages (from torch>=1.6.0->ogb) (4.8.0)\n",
      "Requirement already satisfied: sympy in /usr/lib/python3/dist-packages (from torch>=1.6.0->ogb) (1.5.1)\n",
      "Requirement already satisfied: networkx in /usr/lib/python3/dist-packages (from torch>=1.6.0->ogb) (2.4)\n",
      "Requirement already satisfied: jinja2 in /home/kriti-arora/.local/lib/python3.8/site-packages (from torch>=1.6.0->ogb) (3.1.2)\n",
      "Requirement already satisfied: fsspec in /home/kriti-arora/.local/lib/python3.8/site-packages (from torch>=1.6.0->ogb) (2024.9.0)\n",
      "Requirement already satisfied: nvidia-cuda-nvrtc-cu12==12.1.105 in /home/kriti-arora/.local/lib/python3.8/site-packages (from torch>=1.6.0->ogb) (12.1.105)\n",
      "Requirement already satisfied: nvidia-cuda-runtime-cu12==12.1.105 in /home/kriti-arora/.local/lib/python3.8/site-packages (from torch>=1.6.0->ogb) (12.1.105)\n",
      "Requirement already satisfied: nvidia-cuda-cupti-cu12==12.1.105 in /home/kriti-arora/.local/lib/python3.8/site-packages (from torch>=1.6.0->ogb) (12.1.105)\n",
      "Requirement already satisfied: nvidia-cudnn-cu12==9.1.0.70 in /home/kriti-arora/.local/lib/python3.8/site-packages (from torch>=1.6.0->ogb) (9.1.0.70)\n",
      "Requirement already satisfied: nvidia-cublas-cu12==12.1.3.1 in /home/kriti-arora/.local/lib/python3.8/site-packages (from torch>=1.6.0->ogb) (12.1.3.1)\n",
      "Requirement already satisfied: nvidia-cufft-cu12==11.0.2.54 in /home/kriti-arora/.local/lib/python3.8/site-packages (from torch>=1.6.0->ogb) (11.0.2.54)\n",
      "Requirement already satisfied: nvidia-curand-cu12==10.3.2.106 in /home/kriti-arora/.local/lib/python3.8/site-packages (from torch>=1.6.0->ogb) (10.3.2.106)\n",
      "Requirement already satisfied: nvidia-cusolver-cu12==11.4.5.107 in /home/kriti-arora/.local/lib/python3.8/site-packages (from torch>=1.6.0->ogb) (11.4.5.107)\n",
      "Requirement already satisfied: nvidia-cusparse-cu12==12.1.0.106 in /home/kriti-arora/.local/lib/python3.8/site-packages (from torch>=1.6.0->ogb) (12.1.0.106)\n",
      "Requirement already satisfied: nvidia-nccl-cu12==2.20.5 in /home/kriti-arora/.local/lib/python3.8/site-packages (from torch>=1.6.0->ogb) (2.20.5)\n",
      "Requirement already satisfied: nvidia-nvtx-cu12==12.1.105 in /home/kriti-arora/.local/lib/python3.8/site-packages (from torch>=1.6.0->ogb) (12.1.105)\n",
      "Requirement already satisfied: triton==3.0.0 in /home/kriti-arora/.local/lib/python3.8/site-packages (from torch>=1.6.0->ogb) (3.0.0)\n",
      "Requirement already satisfied: nvidia-nvjitlink-cu12 in /home/kriti-arora/.local/lib/python3.8/site-packages (from nvidia-cusolver-cu12==11.4.5.107->torch>=1.6.0->ogb) (12.6.77)\n",
      "Requirement already satisfied: MarkupSafe>=2.0 in /home/kriti-arora/.local/lib/python3.8/site-packages (from jinja2->torch>=1.6.0->ogb) (2.1.3)\n",
      "Requirement already satisfied: charset-normalizer<4,>=2 in /home/kriti-arora/.local/lib/python3.8/site-packages (from requests->outdated>=0.2.0->ogb) (3.3.2)\n",
      "Requirement already satisfied: idna<4,>=2.5 in /usr/lib/python3/dist-packages (from requests->outdated>=0.2.0->ogb) (2.8)\n",
      "Requirement already satisfied: certifi>=2017.4.17 in /usr/lib/python3/dist-packages (from requests->outdated>=0.2.0->ogb) (2019.11.28)\n",
      "Defaulting to user installation because normal site-packages is not writeable\n",
      "Requirement already satisfied: torch in /home/kriti-arora/.local/lib/python3.8/site-packages (2.4.1)\n",
      "Requirement already satisfied: torchvision in /home/kriti-arora/.local/lib/python3.8/site-packages (0.19.1)\n",
      "Requirement already satisfied: torchaudio in /home/kriti-arora/.local/lib/python3.8/site-packages (2.4.1)\n",
      "Requirement already satisfied: filelock in /home/kriti-arora/.local/lib/python3.8/site-packages (from torch) (3.16.1)\n",
      "Requirement already satisfied: typing-extensions>=4.8.0 in /home/kriti-arora/.local/lib/python3.8/site-packages (from torch) (4.8.0)\n",
      "Requirement already satisfied: sympy in /usr/lib/python3/dist-packages (from torch) (1.5.1)\n",
      "Requirement already satisfied: networkx in /usr/lib/python3/dist-packages (from torch) (2.4)\n",
      "Requirement already satisfied: jinja2 in /home/kriti-arora/.local/lib/python3.8/site-packages (from torch) (3.1.2)\n",
      "Requirement already satisfied: fsspec in /home/kriti-arora/.local/lib/python3.8/site-packages (from torch) (2024.9.0)\n",
      "Requirement already satisfied: nvidia-cuda-nvrtc-cu12==12.1.105 in /home/kriti-arora/.local/lib/python3.8/site-packages (from torch) (12.1.105)\n",
      "Requirement already satisfied: nvidia-cuda-runtime-cu12==12.1.105 in /home/kriti-arora/.local/lib/python3.8/site-packages (from torch) (12.1.105)\n",
      "Requirement already satisfied: nvidia-cuda-cupti-cu12==12.1.105 in /home/kriti-arora/.local/lib/python3.8/site-packages (from torch) (12.1.105)\n",
      "Requirement already satisfied: nvidia-cudnn-cu12==9.1.0.70 in /home/kriti-arora/.local/lib/python3.8/site-packages (from torch) (9.1.0.70)\n",
      "Requirement already satisfied: nvidia-cublas-cu12==12.1.3.1 in /home/kriti-arora/.local/lib/python3.8/site-packages (from torch) (12.1.3.1)\n",
      "Requirement already satisfied: nvidia-cufft-cu12==11.0.2.54 in /home/kriti-arora/.local/lib/python3.8/site-packages (from torch) (11.0.2.54)\n",
      "Requirement already satisfied: nvidia-curand-cu12==10.3.2.106 in /home/kriti-arora/.local/lib/python3.8/site-packages (from torch) (10.3.2.106)\n",
      "Requirement already satisfied: nvidia-cusolver-cu12==11.4.5.107 in /home/kriti-arora/.local/lib/python3.8/site-packages (from torch) (11.4.5.107)\n",
      "Requirement already satisfied: nvidia-cusparse-cu12==12.1.0.106 in /home/kriti-arora/.local/lib/python3.8/site-packages (from torch) (12.1.0.106)\n",
      "Requirement already satisfied: nvidia-nccl-cu12==2.20.5 in /home/kriti-arora/.local/lib/python3.8/site-packages (from torch) (2.20.5)\n",
      "Requirement already satisfied: nvidia-nvtx-cu12==12.1.105 in /home/kriti-arora/.local/lib/python3.8/site-packages (from torch) (12.1.105)\n",
      "Requirement already satisfied: triton==3.0.0 in /home/kriti-arora/.local/lib/python3.8/site-packages (from torch) (3.0.0)\n",
      "Requirement already satisfied: nvidia-nvjitlink-cu12 in /home/kriti-arora/.local/lib/python3.8/site-packages (from nvidia-cusolver-cu12==11.4.5.107->torch) (12.6.77)\n",
      "Requirement already satisfied: numpy in /home/kriti-arora/.local/lib/python3.8/site-packages (from torchvision) (1.24.4)\n",
      "Requirement already satisfied: pillow!=8.3.*,>=5.3.0 in /usr/lib/python3/dist-packages (from torchvision) (7.0.0)\n",
      "Requirement already satisfied: MarkupSafe>=2.0 in /home/kriti-arora/.local/lib/python3.8/site-packages (from jinja2->torch) (2.1.3)\n",
      "Defaulting to user installation because normal site-packages is not writeable\n",
      "Requirement already satisfied: torch-scatter in /home/kriti-arora/.local/lib/python3.8/site-packages (2.1.2)\n",
      "Requirement already satisfied: torch-sparse in /home/kriti-arora/.local/lib/python3.8/site-packages (0.6.18)\n",
      "Requirement already satisfied: torch-cluster in /home/kriti-arora/.local/lib/python3.8/site-packages (1.6.3)\n",
      "Requirement already satisfied: torch-spline-conv in /home/kriti-arora/.local/lib/python3.8/site-packages (1.2.2)\n",
      "Requirement already satisfied: torch-geometric in /home/kriti-arora/.local/lib/python3.8/site-packages (2.6.1)\n",
      "Requirement already satisfied: scipy in /home/kriti-arora/.local/lib/python3.8/site-packages (from torch-sparse) (1.10.1)\n",
      "Requirement already satisfied: aiohttp in /home/kriti-arora/.local/lib/python3.8/site-packages (from torch-geometric) (3.10.10)\n",
      "Requirement already satisfied: fsspec in /home/kriti-arora/.local/lib/python3.8/site-packages (from torch-geometric) (2024.9.0)\n",
      "Requirement already satisfied: jinja2 in /home/kriti-arora/.local/lib/python3.8/site-packages (from torch-geometric) (3.1.2)\n",
      "Requirement already satisfied: numpy in /home/kriti-arora/.local/lib/python3.8/site-packages (from torch-geometric) (1.24.4)\n",
      "Requirement already satisfied: psutil>=5.8.0 in /home/kriti-arora/.local/lib/python3.8/site-packages (from torch-geometric) (5.9.6)\n",
      "Requirement already satisfied: pyparsing in /home/kriti-arora/.local/lib/python3.8/site-packages (from torch-geometric) (3.1.1)\n",
      "Requirement already satisfied: requests in /home/kriti-arora/.local/lib/python3.8/site-packages (from torch-geometric) (2.31.0)\n",
      "Requirement already satisfied: tqdm in /home/kriti-arora/.local/lib/python3.8/site-packages (from torch-geometric) (4.66.5)\n",
      "Requirement already satisfied: aiohappyeyeballs>=2.3.0 in /home/kriti-arora/.local/lib/python3.8/site-packages (from aiohttp->torch-geometric) (2.4.3)\n",
      "Requirement already satisfied: aiosignal>=1.1.2 in /home/kriti-arora/.local/lib/python3.8/site-packages (from aiohttp->torch-geometric) (1.3.1)\n",
      "Requirement already satisfied: attrs>=17.3.0 in /home/kriti-arora/.local/lib/python3.8/site-packages (from aiohttp->torch-geometric) (23.1.0)\n",
      "Requirement already satisfied: frozenlist>=1.1.1 in /home/kriti-arora/.local/lib/python3.8/site-packages (from aiohttp->torch-geometric) (1.4.1)\n",
      "Requirement already satisfied: multidict<7.0,>=4.5 in /home/kriti-arora/.local/lib/python3.8/site-packages (from aiohttp->torch-geometric) (6.1.0)\n",
      "Requirement already satisfied: yarl<2.0,>=1.12.0 in /home/kriti-arora/.local/lib/python3.8/site-packages (from aiohttp->torch-geometric) (1.15.1)\n",
      "Requirement already satisfied: async-timeout<5.0,>=4.0 in /home/kriti-arora/.local/lib/python3.8/site-packages (from aiohttp->torch-geometric) (4.0.3)\n",
      "Requirement already satisfied: MarkupSafe>=2.0 in /home/kriti-arora/.local/lib/python3.8/site-packages (from jinja2->torch-geometric) (2.1.3)\n",
      "Requirement already satisfied: charset-normalizer<4,>=2 in /home/kriti-arora/.local/lib/python3.8/site-packages (from requests->torch-geometric) (3.3.2)\n",
      "Requirement already satisfied: idna<4,>=2.5 in /usr/lib/python3/dist-packages (from requests->torch-geometric) (2.8)\n",
      "Requirement already satisfied: urllib3<3,>=1.21.1 in /usr/lib/python3/dist-packages (from requests->torch-geometric) (1.25.8)\n",
      "Requirement already satisfied: certifi>=2017.4.17 in /usr/lib/python3/dist-packages (from requests->torch-geometric) (2019.11.28)\n",
      "Requirement already satisfied: typing-extensions>=4.1.0 in /home/kriti-arora/.local/lib/python3.8/site-packages (from multidict<7.0,>=4.5->aiohttp->torch-geometric) (4.8.0)\n",
      "Requirement already satisfied: propcache>=0.2.0 in /home/kriti-arora/.local/lib/python3.8/site-packages (from yarl<2.0,>=1.12.0->aiohttp->torch-geometric) (0.2.0)\n",
      "Downloading http://snap.stanford.edu/ogb/data/nodeproppred/arxiv.zip\n"
     ]
    },
    {
     "name": "stderr",
     "output_type": "stream",
     "text": [
      "Downloaded 0.08 GB: 100%|███████████████████████| 81/81 [04:11<00:00,  3.11s/it]\n"
     ]
    },
    {
     "name": "stdout",
     "output_type": "stream",
     "text": [
      "Extracting dataset/arxiv.zip\n"
     ]
    },
    {
     "name": "stderr",
     "output_type": "stream",
     "text": [
      "Processing...\n"
     ]
    },
    {
     "name": "stdout",
     "output_type": "stream",
     "text": [
      "Loading necessary files...\n",
      "This might take a while.\n",
      "Processing graphs...\n"
     ]
    },
    {
     "name": "stderr",
     "output_type": "stream",
     "text": [
      "100%|██████████████████████████████████████████| 1/1 [00:00<00:00, 13934.56it/s]\n"
     ]
    },
    {
     "name": "stdout",
     "output_type": "stream",
     "text": [
      "Converting graphs into PyG objects...\n"
     ]
    },
    {
     "name": "stderr",
     "output_type": "stream",
     "text": [
      "100%|█████████████████████████████████████████████| 1/1 [00:00<00:00,  8.67it/s]"
     ]
    },
    {
     "name": "stdout",
     "output_type": "stream",
     "text": [
      "Saving...\n"
     ]
    },
    {
     "name": "stderr",
     "output_type": "stream",
     "text": [
      "\n",
      "Done!\n",
      "/home/kriti-arora/.local/lib/python3.8/site-packages/ogb/nodeproppred/dataset_pyg.py:69: FutureWarning: You are using `torch.load` with `weights_only=False` (the current default value), which uses the default pickle module implicitly. It is possible to construct malicious pickle data which will execute arbitrary code during unpickling (See https://github.com/pytorch/pytorch/blob/main/SECURITY.md#untrusted-models for more details). In a future release, the default value for `weights_only` will be flipped to `True`. This limits the functions that could be executed during unpickling. Arbitrary objects will no longer be allowed to be loaded via this mode unless they are explicitly allowlisted by the user via `torch.serialization.add_safe_globals`. We recommend you start setting `weights_only=True` for any use case where you don't have full control of the loaded file. Please open an issue on GitHub for any issues related to this experimental feature.\n",
      "  self.data, self.slices = torch.load(self.processed_paths[0])\n"
     ]
    }
   ],
   "source": [
    "!pip install ogb\n",
    "!pip install torch torchvision torchaudio\n",
    "!pip install torch-scatter torch-sparse torch-cluster torch-spline-conv torch-geometric\n",
    "\n",
    "\n",
    "from ogb.nodeproppred import PygNodePropPredDataset\n",
    "\n",
    "dataset = PygNodePropPredDataset(name = \"ogbn-arxiv\") \n",
    "\n",
    "split_idx = dataset.get_idx_split()\n",
    "train_idx, valid_idx, test_idx = split_idx[\"train\"], split_idx[\"valid\"], split_idx[\"test\"]\n",
    "graph = dataset[0] # pyg graph object"
   ]
  },
  {
   "cell_type": "code",
   "execution_count": 8,
   "id": "45da07bb-fc8d-4508-b46a-edbf8ef40abf",
   "metadata": {},
   "outputs": [
    {
     "name": "stdout",
     "output_type": "stream",
     "text": [
      "Number of nodes: 169343\n",
      "Number of edges: 1166243\n",
      "Node labels shape: torch.Size([169343, 1])\n",
      "First 5 node labels:\n",
      " tensor([[ 4],\n",
      "        [ 5],\n",
      "        [28],\n",
      "        [ 8],\n",
      "        [27]])\n",
      "Edge index shape: torch.Size([2, 1166243])\n",
      "First 5 edges:\n",
      " tensor([[104447,  15858, 107156, 107156, 107156],\n",
      "        [ 13091,  47283,  69161, 136440, 107366]])\n",
      "Unique node labels: tensor([ 0,  1,  2,  3,  4,  5,  6,  7,  8,  9, 10, 11, 12, 13, 14, 15, 16, 17,\n",
      "        18, 19, 20, 21, 22, 23, 24, 25, 26, 27, 28, 29, 30, 31, 32, 33, 34, 35,\n",
      "        36, 37, 38, 39])\n"
     ]
    }
   ],
   "source": [
    "# Check the number of nodes and edges\n",
    "num_nodes = graph.num_nodes\n",
    "num_edges = graph.num_edges\n",
    "print(f\"Number of nodes: {num_nodes}\")\n",
    "print(f\"Number of edges: {num_edges}\")\n",
    "\n",
    "# node_features = graph.x  # 'x' typically contains the node features\n",
    "# print(\"Node features shape:\", node_features.shape)\n",
    "# print(\"First 5 node features:\\n\", node_features[:5])\n",
    "\n",
    "# Node labels\n",
    "node_labels = graph.y  # 'y' typically contains the node labels\n",
    "print(\"Node labels shape:\", node_labels.shape)\n",
    "print(\"First 5 node labels:\\n\", node_labels[:5])\n",
    "\n",
    "# Edge index\n",
    "edge_index = graph.edge_index  # 'edge_index' contains the edges\n",
    "print(\"Edge index shape:\", edge_index.shape)\n",
    "print(\"First 5 edges:\\n\", edge_index[:, :5])  # First 5 edges\n",
    "\n",
    "\n",
    "# Find all unique node labels\n",
    "unique_labels = torch.unique(node_labels)\n",
    "\n",
    "# Print the unique labels\n",
    "print(\"Unique node labels:\", unique_labels)"
   ]
  },
  {
   "cell_type": "code",
   "execution_count": null,
   "id": "0675369d-94eb-410f-b47a-18640e862240",
   "metadata": {},
   "outputs": [],
   "source": []
  }
 ],
 "metadata": {
  "kernelspec": {
   "display_name": "Python 3 (ipykernel)",
   "language": "python",
   "name": "python3"
  },
  "language_info": {
   "codemirror_mode": {
    "name": "ipython",
    "version": 3
   },
   "file_extension": ".py",
   "mimetype": "text/x-python",
   "name": "python",
   "nbconvert_exporter": "python",
   "pygments_lexer": "ipython3",
   "version": "3.8.10"
  }
 },
 "nbformat": 4,
 "nbformat_minor": 5
}
