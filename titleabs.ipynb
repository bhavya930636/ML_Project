{
 "cells": [
  {
   "cell_type": "code",
   "execution_count": 9,
   "id": "c1167689-5634-4fc1-92f7-20244b64932c",
   "metadata": {},
   "outputs": [
    {
     "name": "stdout",
     "output_type": "stream",
     "text": [
      "    200971           ontology as a source for rule generation  \\\n",
      "0   549074  a novel methodology for thermal analysis a 3 d...   \n",
      "1   630234  spreadsheets on the move an evaluation of mobi...   \n",
      "2   803423  multi view metric learning for multi view vide...   \n",
      "3  1102481    big data analytics in future internet of things   \n",
      "4  1532644  machine learner for automated reasoning 0 4 an...   \n",
      "\n",
      "  This paper discloses the potential of OWL (Web Ontology Language) ontologies for generation of rules. The main purpose of this paper is to identify new types of rules, which may be generated from OWL ontologies. Rules, generated from OWL ontologies, are necessary for the functioning of the Semantic Web Expert System. It is expected that the Semantic Web Expert System (SWES) will be able to process ontologies from the Web with the purpose to supplement or even to develop its knowledge base.  \n",
      "0  The semiconductor industry is reaching a fasci...                                                                                                                                                                                                                                                                                                                                                                                                                                                              \n",
      "1  The power of mobile devices has increased dram...                                                                                                                                                                                                                                                                                                                                                                                                                                                              \n",
      "2  Traditional methods on video summarization are...                                                                                                                                                                                                                                                                                                                                                                                                                                                              \n",
      "3  Current research on Internet of Things (IoT) m...                                                                                                                                                                                                                                                                                                                                                                                                                                                              \n",
      "4  Machine Learner for Automated Reasoning (MaLAR...                                                                                                                                                                                                                                                                                                                                                                                                                                                              \n",
      "Index(['200971', 'ontology as a source for rule generation',\n",
      "       'This paper discloses the potential of OWL (Web Ontology Language) ontologies for generation of rules. The main purpose of this paper is to identify new types of rules, which may be generated from OWL ontologies. Rules, generated from OWL ontologies, are necessary for the functioning of the Semantic Web Expert System. It is expected that the Semantic Web Expert System (SWES) will be able to process ontologies from the Web with the purpose to supplement or even to develop its knowledge base.'],\n",
      "      dtype='object')\n",
      "Number of unique values in the first column: 179718\n",
      "0             549074\n",
      "1             630234\n",
      "2             803423\n",
      "3            1102481\n",
      "4            1532644\n",
      "             ...    \n",
      "179713    3012554562\n",
      "179714    3012555423\n",
      "179715    3012556759\n",
      "179716    3012557507\n",
      "179717    3012557525\n",
      "Name: 200971, Length: 179718, dtype: int64\n"
     ]
    }
   ],
   "source": [
    "import pandas as pd\n",
    "\n",
    "# Load the TSV file\n",
    "# Replace 'your_file.tsv' with the path to your TSV file\n",
    "df = pd.read_csv('titleabs.tsv', sep='\\t')\n",
    "\n",
    "# Display the first few rows of the dataset\n",
    "print(df.head())\n",
    "print(df.columns)\n",
    "\n",
    "first_column = df.iloc[:, 0]  # This selects the first column using integer-location based indexing\n",
    "\n",
    "# Step 2: Find the number of unique values in the first column\n",
    "num_unique_values = first_column.nunique()\n",
    "\n",
    "# Print the result\n",
    "print(f\"Number of unique values in the first column: {num_unique_values}\")\n",
    "\n",
    "print(first_column)"
   ]
  },
  {
   "cell_type": "code",
   "execution_count": null,
   "id": "9a2ca5d2-69c3-4ea9-87fb-2457c5652995",
   "metadata": {},
   "outputs": [],
   "source": []
  }
 ],
 "metadata": {
  "kernelspec": {
   "display_name": "Python 3 (ipykernel)",
   "language": "python",
   "name": "python3"
  },
  "language_info": {
   "codemirror_mode": {
    "name": "ipython",
    "version": 3
   },
   "file_extension": ".py",
   "mimetype": "text/x-python",
   "name": "python",
   "nbconvert_exporter": "python",
   "pygments_lexer": "ipython3",
   "version": "3.8.10"
  }
 },
 "nbformat": 4,
 "nbformat_minor": 5
}
